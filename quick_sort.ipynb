{
 "cells": [
  {
   "cell_type": "markdown",
   "metadata": {},
   "source": [
    "# quick sort"
   ]
  },
  {
   "cell_type": "code",
   "execution_count": 27,
   "metadata": {},
   "outputs": [],
   "source": [
    "from random import randint"
   ]
  },
  {
   "cell_type": "code",
   "execution_count": 28,
   "metadata": {},
   "outputs": [],
   "source": [
    "def quick_sort(lst, start, end):\n",
    "    if start < end:\n",
    "        # select pivot\n",
    "        pivot = randint(start, end)\n",
    "\n",
    "        # move pivot into end of list\n",
    "        lst[pivot], lst[end] = lst[end], lst[pivot]\n",
    "\n",
    "        split_point = partition(lst, start, end)\n",
    "\n",
    "        quick_sort(lst, start, split_point-1)\n",
    "        quick_sort(lst, split_point+1, end)"
   ]
  },
  {
   "cell_type": "code",
   "execution_count": 30,
   "metadata": {},
   "outputs": [],
   "source": [
    "def partition(lst, start, end):\n",
    "    pivot_index = start\n",
    "    \n",
    "    for i in range(start, end):\n",
    "        if lst[i] < lst[end]:\n",
    "            #swap\n",
    "            lst[i], lst[pivot_index] = lst[pivot_index], lst[i]\n",
    "            pivot_index += 1\n",
    "        else:\n",
    "            pivot_index += 1\n",
    "            \n",
    "        lst[end], lst[pivot_index] = lst[pivot_index], lst[end]\n",
    "        \n",
    "    return pivot_index"
   ]
  },
  {
   "cell_type": "code",
   "execution_count": 31,
   "metadata": {},
   "outputs": [],
   "source": [
    "list = [12, 3, 1, 5, 10]\n",
    "quick_sort(list, 0, len(list)-1)"
   ]
  },
  {
   "cell_type": "code",
   "execution_count": 32,
   "metadata": {},
   "outputs": [
    {
     "data": {
      "text/plain": [
       "[1, 12, 10, 3, 5]"
      ]
     },
     "execution_count": 32,
     "metadata": {},
     "output_type": "execute_result"
    }
   ],
   "source": [
    "list"
   ]
  },
  {
   "cell_type": "code",
   "execution_count": null,
   "metadata": {},
   "outputs": [],
   "source": []
  }
 ],
 "metadata": {
  "kernelspec": {
   "display_name": "Python 3",
   "language": "python",
   "name": "python3"
  },
  "language_info": {
   "codemirror_mode": {
    "name": "ipython",
    "version": 3
   },
   "file_extension": ".py",
   "mimetype": "text/x-python",
   "name": "python",
   "nbconvert_exporter": "python",
   "pygments_lexer": "ipython3",
   "version": "3.7.0"
  }
 },
 "nbformat": 4,
 "nbformat_minor": 2
}
